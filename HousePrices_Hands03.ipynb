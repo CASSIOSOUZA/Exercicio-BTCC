{
  "nbformat": 4,
  "nbformat_minor": 0,
  "metadata": {
    "kernelspec": {
      "display_name": "Python 3",
      "language": "python",
      "name": "python3"
    },
    "language_info": {
      "codemirror_mode": {
        "name": "ipython",
        "version": 3
      },
      "file_extension": ".py",
      "mimetype": "text/x-python",
      "name": "python",
      "nbconvert_exporter": "python",
      "pygments_lexer": "ipython3",
      "version": "3.7.3"
    },
    "colab": {
      "name": "HousePrices_Hands03.ipynb",
      "provenance": [],
      "include_colab_link": true
    }
  },
  "cells": [
    {
      "cell_type": "markdown",
      "metadata": {
        "id": "view-in-github",
        "colab_type": "text"
      },
      "source": [
        "<a href=\"https://colab.research.google.com/github/CASSIOSOUZA/Exercicio-BTCC/blob/master/HousePrices_Hands03.ipynb\" target=\"_parent\"><img src=\"https://colab.research.google.com/assets/colab-badge.svg\" alt=\"Open In Colab\"/></a>"
      ]
    },
    {
      "cell_type": "markdown",
      "metadata": {
        "id": "a6Qpv-ATzPwT",
        "colab_type": "text"
      },
      "source": [
        "# Análise e previsão de Preço de Imóveis\n",
        "\n",
        "1.   Item da lista\n",
        "2.   Item da lista\n",
        "\n",
        "\n",
        "\n",
        "Nesse projeto precisaremos identificar os princiais fatores que influênciam no preço dos imóveis em Boston-USA. O dataset contém diferentes características dos imóveis e o preço de venda.\n",
        "\n",
        "## Exercício\n",
        "\n",
        "* **Identifique** e justifique as 2 principais features que influênciam o preço dos imóveis, tanto positivamente quanto negativamente.\n",
        "* Além de identificar as features, descreva o **quanto** essas features adicionam ou retiram do valor final de venda\n",
        "* Avalie o seu modelo e compare com os colegas\n",
        "\n",
        "![Cota](http://res.cloudinary.com/simpleview/image/upload/v1466799831/clients/boston/c07044da_9483_4fd5_8e37_5b75513dcc80_6b058b6f-7bdc-4f11-b217-4561c07901f3.jpg)\n",
        "\n",
        "Baseado em https://medium.com/@haydar_ai/learning-data-science-day-9-linear-regression-on-boston-housing-dataset-cd62a80775ef"
      ]
    },
    {
      "cell_type": "markdown",
      "metadata": {
        "id": "b-yQXKdJzPwU",
        "colab_type": "text"
      },
      "source": [
        "### Descrição do Conjunto de Dados\n",
        "\n",
        "* https://archive.ics.uci.edu/ml/datasets/housing\n",
        "\n",
        "![Cota](https://cdn-images-1.medium.com/max/800/1*i9vZk7NkS1dZz6JEcbV5nA.png)\n"
      ]
    },
    {
      "cell_type": "code",
      "metadata": {
        "id": "I708l3Q8zPwV",
        "colab_type": "code",
        "colab": {
          "base_uri": "https://localhost:8080/",
          "height": 208
        },
        "outputId": "07db3ede-9f88-477f-96d3-78efccdc75f6"
      },
      "source": [
        "!wget https://storage.googleapis.com/ms_geral/predict_properties_prices/boston.csv"
      ],
      "execution_count": null,
      "outputs": [
        {
          "output_type": "stream",
          "text": [
            "--2020-09-12 16:42:51--  https://storage.googleapis.com/ms_geral/predict_properties_prices/boston.csv\n",
            "Resolving storage.googleapis.com (storage.googleapis.com)... 74.125.141.128, 173.194.216.128, 173.194.217.128, ...\n",
            "Connecting to storage.googleapis.com (storage.googleapis.com)|74.125.141.128|:443... connected.\n",
            "HTTP request sent, awaiting response... 200 OK\n",
            "Length: 41084 (40K) [application/octet-stream]\n",
            "Saving to: ‘boston.csv’\n",
            "\n",
            "\rboston.csv            0%[                    ]       0  --.-KB/s               \rboston.csv          100%[===================>]  40.12K  --.-KB/s    in 0.001s  \n",
            "\n",
            "2020-09-12 16:42:51 (65.6 MB/s) - ‘boston.csv’ saved [41084/41084]\n",
            "\n"
          ],
          "name": "stdout"
        }
      ]
    },
    {
      "cell_type": "code",
      "metadata": {
        "id": "X7R2GQ2hMsDO",
        "colab_type": "code",
        "colab": {
          "base_uri": "https://localhost:8080/",
          "height": 35
        },
        "outputId": "fb659fcf-cb51-41c0-c9b4-272a231c6b43"
      },
      "source": [
        "!ls"
      ],
      "execution_count": null,
      "outputs": [
        {
          "output_type": "stream",
          "text": [
            "boston.csv  sample_data\n"
          ],
          "name": "stdout"
        }
      ]
    },
    {
      "cell_type": "code",
      "metadata": {
        "id": "2WeQ_V3AzPwY",
        "colab_type": "code",
        "colab": {
          "base_uri": "https://localhost:8080/",
          "height": 72
        },
        "outputId": "d84fe258-a2cf-4e99-fda5-3e3fa918e742"
      },
      "source": [
        "import pandas as pd\n",
        "import seaborn as sns\n",
        "import matplotlib.pyplot as plt\n",
        "\n",
        "pd.set_option('display.max_columns', 500)\n",
        "sns.set(rc={'figure.figsize':(13.7,9.27)})"
      ],
      "execution_count": null,
      "outputs": [
        {
          "output_type": "stream",
          "text": [
            "/usr/local/lib/python3.6/dist-packages/statsmodels/tools/_testing.py:19: FutureWarning: pandas.util.testing is deprecated. Use the functions in the public API at pandas.testing instead.\n",
            "  import pandas.util.testing as tm\n"
          ],
          "name": "stderr"
        }
      ]
    },
    {
      "cell_type": "markdown",
      "metadata": {
        "id": "4wo32TzwzPwa",
        "colab_type": "text"
      },
      "source": [
        "## Leitura do Dataset"
      ]
    },
    {
      "cell_type": "code",
      "metadata": {
        "id": "96LhTOnszPwb",
        "colab_type": "code",
        "colab": {
          "base_uri": "https://localhost:8080/",
          "height": 202
        },
        "outputId": "d7c0a6b2-6e36-409f-d3b1-ce17f2fe37ce"
      },
      "source": [
        "df = pd.read_csv('boston.csv')\n",
        "\n",
        "df.head()"
      ],
      "execution_count": null,
      "outputs": [
        {
          "output_type": "execute_result",
          "data": {
            "text/html": [
              "<div>\n",
              "<style scoped>\n",
              "    .dataframe tbody tr th:only-of-type {\n",
              "        vertical-align: middle;\n",
              "    }\n",
              "\n",
              "    .dataframe tbody tr th {\n",
              "        vertical-align: top;\n",
              "    }\n",
              "\n",
              "    .dataframe thead th {\n",
              "        text-align: right;\n",
              "    }\n",
              "</style>\n",
              "<table border=\"1\" class=\"dataframe\">\n",
              "  <thead>\n",
              "    <tr style=\"text-align: right;\">\n",
              "      <th></th>\n",
              "      <th>Unnamed: 0</th>\n",
              "      <th>CRIM</th>\n",
              "      <th>ZN</th>\n",
              "      <th>INDUS</th>\n",
              "      <th>CHAS</th>\n",
              "      <th>NOX</th>\n",
              "      <th>RM</th>\n",
              "      <th>AGE</th>\n",
              "      <th>DIS</th>\n",
              "      <th>RAD</th>\n",
              "      <th>TAX</th>\n",
              "      <th>PTRATIO</th>\n",
              "      <th>B</th>\n",
              "      <th>LSTAT</th>\n",
              "      <th>PRICE</th>\n",
              "    </tr>\n",
              "  </thead>\n",
              "  <tbody>\n",
              "    <tr>\n",
              "      <th>0</th>\n",
              "      <td>0</td>\n",
              "      <td>0.00632</td>\n",
              "      <td>18.0</td>\n",
              "      <td>2.31</td>\n",
              "      <td>0.0</td>\n",
              "      <td>0.538</td>\n",
              "      <td>6.575</td>\n",
              "      <td>65.2</td>\n",
              "      <td>4.0900</td>\n",
              "      <td>1.0</td>\n",
              "      <td>296.0</td>\n",
              "      <td>15.3</td>\n",
              "      <td>396.90</td>\n",
              "      <td>4.98</td>\n",
              "      <td>24.0</td>\n",
              "    </tr>\n",
              "    <tr>\n",
              "      <th>1</th>\n",
              "      <td>1</td>\n",
              "      <td>0.02731</td>\n",
              "      <td>0.0</td>\n",
              "      <td>7.07</td>\n",
              "      <td>0.0</td>\n",
              "      <td>0.469</td>\n",
              "      <td>6.421</td>\n",
              "      <td>78.9</td>\n",
              "      <td>4.9671</td>\n",
              "      <td>2.0</td>\n",
              "      <td>242.0</td>\n",
              "      <td>17.8</td>\n",
              "      <td>396.90</td>\n",
              "      <td>9.14</td>\n",
              "      <td>21.6</td>\n",
              "    </tr>\n",
              "    <tr>\n",
              "      <th>2</th>\n",
              "      <td>2</td>\n",
              "      <td>0.02729</td>\n",
              "      <td>0.0</td>\n",
              "      <td>7.07</td>\n",
              "      <td>0.0</td>\n",
              "      <td>0.469</td>\n",
              "      <td>7.185</td>\n",
              "      <td>61.1</td>\n",
              "      <td>4.9671</td>\n",
              "      <td>2.0</td>\n",
              "      <td>242.0</td>\n",
              "      <td>17.8</td>\n",
              "      <td>392.83</td>\n",
              "      <td>4.03</td>\n",
              "      <td>34.7</td>\n",
              "    </tr>\n",
              "    <tr>\n",
              "      <th>3</th>\n",
              "      <td>3</td>\n",
              "      <td>0.03237</td>\n",
              "      <td>0.0</td>\n",
              "      <td>2.18</td>\n",
              "      <td>0.0</td>\n",
              "      <td>0.458</td>\n",
              "      <td>6.998</td>\n",
              "      <td>45.8</td>\n",
              "      <td>6.0622</td>\n",
              "      <td>3.0</td>\n",
              "      <td>222.0</td>\n",
              "      <td>18.7</td>\n",
              "      <td>394.63</td>\n",
              "      <td>2.94</td>\n",
              "      <td>33.4</td>\n",
              "    </tr>\n",
              "    <tr>\n",
              "      <th>4</th>\n",
              "      <td>4</td>\n",
              "      <td>0.06905</td>\n",
              "      <td>0.0</td>\n",
              "      <td>2.18</td>\n",
              "      <td>0.0</td>\n",
              "      <td>0.458</td>\n",
              "      <td>7.147</td>\n",
              "      <td>54.2</td>\n",
              "      <td>6.0622</td>\n",
              "      <td>3.0</td>\n",
              "      <td>222.0</td>\n",
              "      <td>18.7</td>\n",
              "      <td>396.90</td>\n",
              "      <td>5.33</td>\n",
              "      <td>36.2</td>\n",
              "    </tr>\n",
              "  </tbody>\n",
              "</table>\n",
              "</div>"
            ],
            "text/plain": [
              "   Unnamed: 0     CRIM    ZN  INDUS  CHAS    NOX     RM   AGE     DIS  RAD  \\\n",
              "0           0  0.00632  18.0   2.31   0.0  0.538  6.575  65.2  4.0900  1.0   \n",
              "1           1  0.02731   0.0   7.07   0.0  0.469  6.421  78.9  4.9671  2.0   \n",
              "2           2  0.02729   0.0   7.07   0.0  0.469  7.185  61.1  4.9671  2.0   \n",
              "3           3  0.03237   0.0   2.18   0.0  0.458  6.998  45.8  6.0622  3.0   \n",
              "4           4  0.06905   0.0   2.18   0.0  0.458  7.147  54.2  6.0622  3.0   \n",
              "\n",
              "     TAX  PTRATIO       B  LSTAT  PRICE  \n",
              "0  296.0     15.3  396.90   4.98   24.0  \n",
              "1  242.0     17.8  396.90   9.14   21.6  \n",
              "2  242.0     17.8  392.83   4.03   34.7  \n",
              "3  222.0     18.7  394.63   2.94   33.4  \n",
              "4  222.0     18.7  396.90   5.33   36.2  "
            ]
          },
          "metadata": {
            "tags": []
          },
          "execution_count": 7
        }
      ]
    },
    {
      "cell_type": "markdown",
      "metadata": {
        "id": "fIcfYcZRzPwd",
        "colab_type": "text"
      },
      "source": [
        "### Exploração de Dados - EDA\n",
        "\n",
        "Explore o dataset antes de pensar no modelo preditivo. Descubra a correlação dos dados, possíveis valores nulos ou fora do padão, outliers que podem atrapalhar a análise ... etc.\n",
        "\n",
        "Lembre o que dataset é um caso real e possivelmente tem problemas que devem ser contornados.\n",
        "\n",
        "#### Links úteis:\n",
        "* Descriptive Statistics For pandas Dataframe: https://chrisalbon.com/python/data_wrangling/pandas_dataframe_descriptive_stats/"
      ]
    },
    {
      "cell_type": "code",
      "metadata": {
        "id": "eznW2Bn9zPwe",
        "colab_type": "code",
        "colab": {
          "base_uri": "https://localhost:8080/",
          "height": 35
        },
        "outputId": "39b58fc7-f447-465f-be90-86b1c72122d1"
      },
      "source": [
        "#Correlação entre a coluna IDADE e a coluna PREÇO\n",
        "df.AGE.corr(df.PRICE)"
      ],
      "execution_count": null,
      "outputs": [
        {
          "output_type": "execute_result",
          "data": {
            "text/plain": [
              "-0.37695456500459623"
            ]
          },
          "metadata": {
            "tags": []
          },
          "execution_count": 8
        }
      ]
    },
    {
      "cell_type": "code",
      "metadata": {
        "id": "A0_y_ZG6zPwg",
        "colab_type": "code",
        "colab": {}
      },
      "source": [
        "def plot_corr(columns, dataframe):\n",
        "    # Draw a heatmap with the numeric values in each cell\n",
        "    f, ax = plt.subplots(figsize=(15, 10))\n",
        "    tst = dataframe[columns]\n",
        "    sns.heatmap(tst.corr(), annot=True, fmt='.2f', cmap ='Blues',\n",
        "                linewidths=.5, xticklabels=columns,\n",
        "                yticklabels=columns)"
      ],
      "execution_count": null,
      "outputs": []
    },
    {
      "cell_type": "code",
      "metadata": {
        "id": "OuuiFb3jzPwj",
        "colab_type": "code",
        "colab": {
          "base_uri": "https://localhost:8080/",
          "height": 598
        },
        "outputId": "c41f0a51-4c63-421d-dab7-ead047c0819f"
      },
      "source": [
        "cols = ['AGE', 'RM', 'PRICE']\n",
        "\n",
        "plot_corr(cols, df)"
      ],
      "execution_count": null,
      "outputs": [
        {
          "output_type": "display_data",
          "data": {
            "image/png": "[encoded data removed]",
            "text/plain": [
              "<Figure size 1080x720 with 2 Axes>"
            ]
          },
          "metadata": {
            "tags": [],
            "needs_background": "light"
          }
        }
      ]
    },
    {
      "cell_type": "markdown",
      "metadata": {
        "id": "G0DaklJCzPwl",
        "colab_type": "text"
      },
      "source": [
        "### Regressão Linear\n",
        "\n",
        "Utilize regressão linear para descrever a relação e predizer o valor dos imóveis\n",
        "\n",
        "#### Links úteis:\n",
        "* https://scikit-learn.org/stable/modules/generated/sklearn.linear_model.LinearRegression.html\n",
        "* https://scikit-learn.org/stable/auto_examples/linear_model/plot_ols.html \n"
      ]
    },
    {
      "cell_type": "code",
      "metadata": {
        "id": "m6tZ9sBTzPwm",
        "colab_type": "code",
        "colab": {}
      },
      "source": [
        "from sklearn.linear_model import LinearRegression\n",
        "\n",
        "lr = LinearRegression()\n",
        "x = df.AGE.values\n",
        "x = x.reshape(-1,1)\n",
        "y = df.PRICE\n",
        "lr.fit(x,y)\n",
        "a = lr.coef_[0]\n",
        "b = lr.intercept_"
      ],
      "execution_count": null,
      "outputs": []
    },
    {
      "cell_type": "code",
      "metadata": {
        "id": "S3R4PKI8RQrx",
        "colab_type": "code",
        "colab": {}
      },
      "source": [
        ""
      ],
      "execution_count": null,
      "outputs": []
    }
  ]
}